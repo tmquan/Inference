{
 "cells": [
  {
   "cell_type": "code",
   "execution_count": 1,
   "metadata": {},
   "outputs": [],
   "source": [
    "import numpy as np"
   ]
  },
  {
   "cell_type": "code",
   "execution_count": 2,
   "metadata": {},
   "outputs": [],
   "source": [
    "'''\n",
    "MIT License\n",
    "Copyright (c) 2018 Fanjin Zeng\n",
    "This work is licensed under the terms of the MIT license, see <https://opensource.org/licenses/MIT>.  \n",
    "'''\n",
    "\n",
    "def sliding_window_view(x, shape, step=None, subok=False, writeable=False):\n",
    "    \"\"\"\n",
    "    Create sliding window views of the N dimensions array with the given window\n",
    "    shape. Window slides across each dimension of `x` and provides subsets of `x`\n",
    "    at any window position.\n",
    "    Parameters\n",
    "    ----------\n",
    "    x : ndarray\n",
    "        Array to create sliding window views.\n",
    "    shape : sequence of int\n",
    "        The shape of the window. Must have same length as number of input array dimensions.\n",
    "    step: sequence of int, optional\n",
    "        The steps of window shifts for each dimension on input array at a time.\n",
    "        If given, must have same length as number of input array dimensions.\n",
    "        Defaults to 1 on all dimensions.\n",
    "    subok : bool, optional\n",
    "        If True, then sub-classes will be passed-through, otherwise the returned\n",
    "        array will be forced to be a base-class array (default).\n",
    "    writeable : bool, optional\n",
    "        If set to False, the returned array will always be readonly view.\n",
    "        Otherwise it will return writable copies(see Notes).\n",
    "    Returns\n",
    "    -------\n",
    "    view : ndarray\n",
    "        Sliding window views (or copies) of `x`. view.shape = (x.shape - shape) // step + 1\n",
    "    See also\n",
    "    --------\n",
    "    as_strided: Create a view into the array with the given shape and strides.\n",
    "    broadcast_to: broadcast an array to a given shape.\n",
    "    Notes\n",
    "    -----\n",
    "    ``sliding_window_view`` create sliding window views of the N dimensions array\n",
    "    with the given window shape and its implementation based on ``as_strided``.\n",
    "    Please note that if writeable set to False, the return is views, not copies\n",
    "    of array. In this case, write operations could be unpredictable, so the return\n",
    "    views is readonly. Bear in mind, return copies (writeable=True), could possibly\n",
    "    take memory multiple amount of origin array, due to overlapping windows.\n",
    "    For some cases, there may be more efficient approaches, such as FFT based algo discussed in #7753.\n",
    "    Examples\n",
    "    --------\n",
    "    >>> i, j = np.ogrid[:3,:4]\n",
    "    >>> x = 10*i + j\n",
    "    >>> shape = (2,2)\n",
    "    >>> sliding_window_view(x, shape)\n",
    "    array([[[[ 0,  1],\n",
    "             [10, 11]],\n",
    "            [[ 1,  2],\n",
    "             [11, 12]],\n",
    "            [[ 2,  3],\n",
    "             [12, 13]]],\n",
    "           [[[10, 11],\n",
    "             [20, 21]],\n",
    "            [[11, 12],\n",
    "             [21, 22]],\n",
    "            [[12, 13],\n",
    "             [22, 23]]]])\n",
    "    >>> i, j = np.ogrid[:3,:4]\n",
    "    >>> x = 10*i + j\n",
    "    >>> shape = (2,2)\n",
    "    >>> step = (1,2)\n",
    "    >>> sliding_window_view(x, shape, step)\n",
    "    array([[[[ 0,  1],\n",
    "             [10, 11]],\n",
    "            [[ 2,  3],\n",
    "             [12, 13]]],\n",
    "           [[[10, 11],\n",
    "             [20, 21]],\n",
    "            [[12, 13],\n",
    "             [22, 23]]]])\n",
    "    \"\"\"\n",
    "    # first convert input to array, possibly keeping subclass\n",
    "    x = np.array(x, copy=False, subok=subok)\n",
    "\n",
    "    try:\n",
    "        shape = np.array(shape, np.int)\n",
    "    except:\n",
    "        raise TypeError('`shape` must be a sequence of integer')\n",
    "    else:\n",
    "        if shape.ndim > 1:\n",
    "            raise ValueError('`shape` must be one-dimensional sequence of integer')\n",
    "        if len(x.shape) != len(shape):\n",
    "            raise ValueError(\"`shape` length doesn't match with input array dimensions\")\n",
    "        if np.any(shape <= 0):\n",
    "            raise ValueError('`shape` cannot contain non-positive value')\n",
    "\n",
    "    if step is None:\n",
    "        step = np.ones(len(x.shape), np.intp)\n",
    "    else:\n",
    "        try:\n",
    "            step = np.array(step, np.intp)\n",
    "        except:\n",
    "            raise TypeError('`step` must be a sequence of integer')\n",
    "        else:\n",
    "            if step.ndim > 1:\n",
    "                raise ValueError('`step` must be one-dimensional sequence of integer')\n",
    "            if len(x.shape)!= len(step):\n",
    "                raise ValueError(\"`step` length doesn't match with input array dimensions\")\n",
    "            if np.any(step <= 0):\n",
    "                raise ValueError('`step` cannot contain non-positive value')\n",
    "\n",
    "    o = (np.array(x.shape)  - shape) // step + 1 # output shape\n",
    "    if np.any(o <= 0):\n",
    "        raise ValueError('window shape cannot larger than input array shape')\n",
    "\n",
    "    strides = x.strides\n",
    "    view_strides = strides * step\n",
    "\n",
    "    view_shape = np.concatenate((o, shape), axis=0)\n",
    "    view_strides = np.concatenate((view_strides, strides), axis=0)\n",
    "    #view = np.lib.stride_tricks.as_strided(x, view_shape, view_strides, subok=subok, writeable=writeable)\n",
    "    view = np.lib.stride_tricks.as_strided(x, view_shape, view_strides, subok=subok)#, writeable=writeable)\n",
    "\n",
    "    if writeable:\n",
    "        return view.copy()\n",
    "    else:\n",
    "        return view"
   ]
  },
  {
   "cell_type": "code",
   "execution_count": null,
   "metadata": {},
   "outputs": [],
   "source": []
  },
  {
   "cell_type": "code",
   "execution_count": 3,
   "metadata": {},
   "outputs": [
    {
     "data": {
      "text/plain": [
       "array([[ 0,  1,  2,  3,  4,  5,  6,  7,  8],\n",
       "       [ 9, 10, 11, 12, 13, 14, 15, 16, 17],\n",
       "       [18, 19, 20, 21, 22, 23, 24, 25, 26],\n",
       "       [27, 28, 29, 30, 31, 32, 33, 34, 35],\n",
       "       [36, 37, 38, 39, 40, 41, 42, 43, 44],\n",
       "       [45, 46, 47, 48, 49, 50, 51, 52, 53],\n",
       "       [54, 55, 56, 57, 58, 59, 60, 61, 62],\n",
       "       [63, 64, 65, 66, 67, 68, 69, 70, 71],\n",
       "       [72, 73, 74, 75, 76, 77, 78, 79, 80]])"
      ]
     },
     "execution_count": 3,
     "metadata": {},
     "output_type": "execute_result"
    }
   ],
   "source": [
    "i, j = np.ogrid[:9,:9]\n",
    "arr = 9*i + j\n",
    "arr"
   ]
  },
  {
   "cell_type": "code",
   "execution_count": 4,
   "metadata": {},
   "outputs": [],
   "source": [
    "inner = 3\n",
    "ghost = 2\n",
    "outer = inner + 2*ghost\n",
    "\n",
    "shape = (outer, outer)\n",
    "steps = (inner, inner)"
   ]
  },
  {
   "cell_type": "code",
   "execution_count": 5,
   "metadata": {},
   "outputs": [
    {
     "name": "stdout",
     "output_type": "stream",
     "text": [
      "(13, 13)\n",
      "[[10  9  9 10 11 12 13 14 15 16 17 17 16]\n",
      " [ 1  0  0  1  2  3  4  5  6  7  8  8  7]\n",
      " [ 1  0  0  1  2  3  4  5  6  7  8  8  7]\n",
      " [10  9  9 10 11 12 13 14 15 16 17 17 16]\n",
      " [19 18 18 19 20 21 22 23 24 25 26 26 25]\n",
      " [28 27 27 28 29 30 31 32 33 34 35 35 34]\n",
      " [37 36 36 37 38 39 40 41 42 43 44 44 43]\n",
      " [46 45 45 46 47 48 49 50 51 52 53 53 52]\n",
      " [55 54 54 55 56 57 58 59 60 61 62 62 61]\n",
      " [64 63 63 64 65 66 67 68 69 70 71 71 70]\n",
      " [73 72 72 73 74 75 76 77 78 79 80 80 79]\n",
      " [73 72 72 73 74 75 76 77 78 79 80 80 79]\n",
      " [64 63 63 64 65 66 67 68 69 70 71 71 70]]\n"
     ]
    }
   ],
   "source": [
    "padding = np.pad(arr, [[ghost, ghost], [ghost, ghost]], mode='symmetric')\n",
    "print(padding.shape)\n",
    "print(padding)"
   ]
  },
  {
   "cell_type": "code",
   "execution_count": 6,
   "metadata": {},
   "outputs": [],
   "source": [
    "weights = np.zeros_like(padding)"
   ]
  },
  {
   "cell_type": "code",
   "execution_count": 7,
   "metadata": {},
   "outputs": [],
   "source": [
    "v_padding = sliding_window_view(padding, shape, steps)\n",
    "v_weights = sliding_window_view(weights, shape, steps)"
   ]
  },
  {
   "cell_type": "code",
   "execution_count": 8,
   "metadata": {},
   "outputs": [
    {
     "name": "stdout",
     "output_type": "stream",
     "text": [
      "(13, 13)\n"
     ]
    }
   ],
   "source": [
    "print(padding.shape) # (num, num, outer, outer)"
   ]
  },
  {
   "cell_type": "code",
   "execution_count": 9,
   "metadata": {},
   "outputs": [
    {
     "name": "stdout",
     "output_type": "stream",
     "text": [
      "10\n"
     ]
    }
   ],
   "source": [
    "print(padding[0, 0])"
   ]
  },
  {
   "cell_type": "code",
   "execution_count": 10,
   "metadata": {},
   "outputs": [],
   "source": [
    "for y in range(v_padding.shape[0]):\n",
    "    for x in range(v_padding.shape[1]):\n",
    "        weight = np.ones_like(v_padding[y, x])\n",
    "        v_weights[y, x] += weight\n",
    "        "
   ]
  },
  {
   "cell_type": "code",
   "execution_count": 11,
   "metadata": {},
   "outputs": [
    {
     "name": "stdout",
     "output_type": "stream",
     "text": [
      "[[1 1 1 2 2 2 3 2 2 2 1 1 1]\n",
      " [1 1 1 2 2 2 3 2 2 2 1 1 1]\n",
      " [1 1 1 2 2 2 3 2 2 2 1 1 1]\n",
      " [2 2 2 4 4 4 6 4 4 4 2 2 2]\n",
      " [2 2 2 4 4 4 6 4 4 4 2 2 2]\n",
      " [2 2 2 4 4 4 6 4 4 4 2 2 2]\n",
      " [3 3 3 6 6 6 9 6 6 6 3 3 3]\n",
      " [2 2 2 4 4 4 6 4 4 4 2 2 2]\n",
      " [2 2 2 4 4 4 6 4 4 4 2 2 2]\n",
      " [2 2 2 4 4 4 6 4 4 4 2 2 2]\n",
      " [1 1 1 2 2 2 3 2 2 2 1 1 1]\n",
      " [1 1 1 2 2 2 3 2 2 2 1 1 1]\n",
      " [1 1 1 2 2 2 3 2 2 2 1 1 1]]\n"
     ]
    }
   ],
   "source": [
    "print(weights)"
   ]
  },
  {
   "cell_type": "code",
   "execution_count": 12,
   "metadata": {},
   "outputs": [
    {
     "name": "stdout",
     "output_type": "stream",
     "text": [
      "[[10  9  9 10 11 12 13 14 15 16 17 17 16]\n",
      " [ 1  0  0  1  2  3  4  5  6  7  8  8  7]\n",
      " [ 1  0  0  1  2  3  4  5  6  7  8  8  7]\n",
      " [10  9  9 10 11 12 13 14 15 16 17 17 16]\n",
      " [19 18 18 19 20 21 22 23 24 25 26 26 25]\n",
      " [28 27 27 28 29 30 31 32 33 34 35 35 34]\n",
      " [37 36 36 37 38 39 40 41 42 43 44 44 43]\n",
      " [46 45 45 46 47 48 49 50 51 52 53 53 52]\n",
      " [55 54 54 55 56 57 58 59 60 61 62 62 61]\n",
      " [64 63 63 64 65 66 67 68 69 70 71 71 70]\n",
      " [73 72 72 73 74 75 76 77 78 79 80 80 79]\n",
      " [73 72 72 73 74 75 76 77 78 79 80 80 79]\n",
      " [64 63 63 64 65 66 67 68 69 70 71 71 70]]\n"
     ]
    }
   ],
   "source": [
    "print(padding)"
   ]
  },
  {
   "cell_type": "code",
   "execution_count": 19,
   "metadata": {},
   "outputs": [],
   "source": [
    "def invert(val):\n",
    "    return 80-val\n",
    "\n",
    "def weighted_map_blocks(arr, inner, ghost, func): # work for 3D, inner=[1, 3, 3], ghost=[0, 2, 2], \n",
    "    # param\n",
    "    outer = inner + 2*ghost\n",
    "    outer = [(i + 2*g) for i, g in zip(inner, ghost)]\n",
    "    shape = outer\n",
    "    steps = inner\n",
    "        \n",
    "    print(outer)\n",
    "    print(shape)\n",
    "    print(inner)\n",
    "    # pad the array\n",
    "    padding = np.pad(arr, [[ghost[0], ghost[0]], \n",
    "                           [ghost[1], ghost[1]], \n",
    "                           [ghost[2], ghost[2]]] , mode='symmetric')\n",
    "    print(padding.shape)\n",
    "    #print(padding)\n",
    "    \n",
    "    weights = np.zeros_like(padding)\n",
    "    results = np.zeros_like(padding)\n",
    "    \n",
    "    v_padding = sliding_window_view(padding, shape, steps)\n",
    "    v_weights = sliding_window_view(weights, shape, steps)\n",
    "    v_results = sliding_window_view(results, shape, steps)\n",
    "    \n",
    "    for z in range(v_padding.shape[0]):\n",
    "        for y in range(v_padding.shape[1]):\n",
    "            for x in range(v_padding.shape[2]):\n",
    "                # Get the result\n",
    "                v_results[z,y,x] += func(v_padding[z,y,x]) ### Todo function is here\n",
    "                \n",
    "                v_weight = np.ones_like(v_padding[z,y,x])\n",
    "                v_weights[z,y,x] += v_weight\n",
    "                \n",
    "    # Divided by the weight param\n",
    "    results /= weights\n",
    "    \n",
    "    \n",
    "    current_shape = results.shape\n",
    "    trimmed_shape = [np.arange(ghost[0]),(results.shape[0] - ghost[0]), \n",
    "                     np.arange(ghost[1]),(results.shape[1] - ghost[1]), \n",
    "                     np.arange(ghost[2]),(results.shape[2] - ghost[2])]\n",
    "    # Trim the result\n",
    "    results = results[(ghost[0]):(results.shape[0] - ghost[0]), \n",
    "                      (ghost[1]):(results.shape[1] - ghost[1]), \n",
    "                      (ghost[2]):(results.shape[2] - ghost[2])]\n",
    "    #results = results[trimmed_shape]\n",
    "    \n",
    "    return results"
   ]
  },
  {
   "cell_type": "code",
   "execution_count": 20,
   "metadata": {},
   "outputs": [
    {
     "name": "stdout",
     "output_type": "stream",
     "text": [
      "[1, 7, 7]\n",
      "[1, 7, 7]\n",
      "[1, 3, 3]\n",
      "(1, 13, 13)\n",
      "[[[80 79 78 77 76 75 74 73 72]\n",
      "  [71 70 69 68 67 66 65 64 63]\n",
      "  [62 61 60 59 58 57 56 55 54]\n",
      "  [53 52 51 50 49 48 47 46 45]\n",
      "  [44 43 42 41 40 39 38 37 36]\n",
      "  [35 34 33 32 31 30 29 28 27]\n",
      "  [26 25 24 23 22 21 20 19 18]\n",
      "  [17 16 15 14 13 12 11 10  9]\n",
      "  [ 8  7  6  5  4  3  2  1  0]]]\n"
     ]
    }
   ],
   "source": [
    "i, j = np.ogrid[:9,:9]\n",
    "arr = 9*i + j\n",
    "arr = np.expand_dims(arr, axis=0)\n",
    "# print(arr.shape)\n",
    "# print(arr)\n",
    "\n",
    "inv = weighted_map_blocks(arr, [1, 3, 3], [0, 2, 2], invert)\n",
    "print(inv)"
   ]
  },
  {
   "cell_type": "code",
   "execution_count": null,
   "metadata": {},
   "outputs": [],
   "source": []
  },
  {
   "cell_type": "code",
   "execution_count": null,
   "metadata": {},
   "outputs": [],
   "source": []
  },
  {
   "cell_type": "code",
   "execution_count": null,
   "metadata": {},
   "outputs": [],
   "source": []
  }
 ],
 "metadata": {
  "kernelspec": {
   "display_name": "Python 2",
   "language": "python",
   "name": "python2"
  },
  "language_info": {
   "codemirror_mode": {
    "name": "ipython",
    "version": 2
   },
   "file_extension": ".py",
   "mimetype": "text/x-python",
   "name": "python",
   "nbconvert_exporter": "python",
   "pygments_lexer": "ipython2",
   "version": "2.7.12"
  }
 },
 "nbformat": 4,
 "nbformat_minor": 2
}
